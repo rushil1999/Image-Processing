{
 "cells": [
  {
   "cell_type": "code",
   "execution_count": 1,
   "metadata": {},
   "outputs": [],
   "source": [
    "# Creating tree nodes\n",
    "class NodeTree(object):\n",
    "\n",
    "    def __init__(self, left=None, right=None):\n",
    "        self.left = left\n",
    "        self.right = right\n",
    "\n",
    "    def children(self):\n",
    "        return (self.left, self.right)\n",
    "\n",
    "    def nodes(self):\n",
    "        return (self.left, self.right)\n",
    "\n",
    "    def __str__(self):\n",
    "        return '%s_%s' % (self.left, self.right)"
   ]
  },
  {
   "cell_type": "code",
   "execution_count": 2,
   "metadata": {},
   "outputs": [],
   "source": [
    "def huffman_code_tree(node, left=True, binString=''):\n",
    "    if (type(node) != NodeTree):\n",
    "        return {node: binString}\n",
    "    (l, r) = node.children()\n",
    "    d = dict()\n",
    "    d.update(huffman_code_tree(l, True, binString + '0'))\n",
    "    d.update(huffman_code_tree(r, False, binString + '1'))\n",
    "    return d"
   ]
  },
  {
   "cell_type": "code",
   "execution_count": 3,
   "metadata": {},
   "outputs": [],
   "source": [
    "\n",
    "\n",
    "def huffmanEncoding(string):\n",
    "    \n",
    "    newString = []\n",
    "    huffList = []\n",
    "\n",
    "    freq = {}\n",
    "    for c in string:\n",
    "        if c in freq:\n",
    "            freq[c] += 1\n",
    "        else:\n",
    "            freq[c] = 1\n",
    "\n",
    "    freq = sorted(freq.items(), key=lambda x: x[1], reverse=True)\n",
    "\n",
    "    nodes = freq\n",
    "\n",
    "    while len(nodes) > 1:\n",
    "        (key1, c1) = nodes[-1]\n",
    "        (key2, c2) = nodes[-2]\n",
    "        nodes = nodes[:-2]\n",
    "        node = NodeTree(key1, key2)\n",
    "        nodes.append((node, c1 + c2))\n",
    "\n",
    "        nodes = sorted(nodes, key=lambda x: x[1], reverse=True)\n",
    "\n",
    "    huffmanCode = huffman_code_tree(nodes[0][0])\n",
    "    print(\"Tree\")\n",
    "    print(huffmanCode)\n",
    "\n",
    "    for element in string:\n",
    "    #     print(huffmanCode[element])\n",
    "        newString.append(huffmanCode[element])\n",
    "\n",
    "    # print(newString)\n",
    "    huffList.append(newString)\n",
    "    huffList.append(huffmanCode)\n",
    "\n",
    "#     print(huffList)\n",
    "    return huffList\n"
   ]
  },
  {
   "cell_type": "code",
   "execution_count": 4,
   "metadata": {},
   "outputs": [
    {
     "name": "stdout",
     "output_type": "stream",
     "text": [
      "bytearray(b'\\x01\\x01\\x05\\x04\\x05\\t\\x08\\x07\\x05\\x07')\n",
      "Tree\n",
      "{7: '00', 1: '01', 4: '100', 8: '1010', 9: '1011', 5: '11'}\n",
      "{7: '00', 1: '01', 4: '100', 8: '1010', 9: '1011', 5: '11'}\n",
      "0101111001110111010001100\n",
      "0000011101011110011101110100011000000000\n",
      "bytearray(b'\\x07^wF\\x00')\n"
     ]
    }
   ],
   "source": [
    "\n",
    "\n",
    "string = [1,1,5,4,5,9,8,7,5,7]\n",
    "\n",
    "bTest = bytearray(string)\n",
    "print(bTest)\n",
    "\n",
    "\n",
    "list = huffmanEncoding(string)\n",
    "\n",
    "code = list[1]\n",
    "print(code)\n",
    "\n",
    "encodedString = \"\"\n",
    "\n",
    "for element in string:\n",
    "    encodedString = encodedString + code[element]\n",
    "\n",
    "\n",
    "print(encodedString)\n",
    "    \n",
    "extra_padding = 8 - len(encodedString) % 8\n",
    "for i in range(extra_padding):\n",
    "    encodedString += \"0\"\n",
    "\n",
    "padded_info = \"{0:08b}\".format(extra_padding)\n",
    "encodedString = padded_info + encodedString\n",
    "\n",
    "print(encodedString)\n",
    "\n",
    "padded_encoded_text = encodedString\n",
    "\n",
    "\n",
    "if(len(padded_encoded_text) % 8 != 0):\n",
    "    print(\"Encoded text not padded properly\")\n",
    "    \n",
    "\n",
    "b = bytearray()\n",
    "for i in range(0, len(padded_encoded_text), 8):\n",
    "    byte = padded_encoded_text[i:i+8]\n",
    "    b.append(int(byte, 2))\n",
    "\n",
    "print(b)\n",
    "\n",
    "filename =  \"/home/rushil/Documents/Python/Image Processing/Compression/ci.bin\"\n",
    "outfile = open(filename,'wb')\n",
    "outfile.write(bytes(b))\n",
    "outfile.close()\n",
    "\n"
   ]
  },
  {
   "cell_type": "code",
   "execution_count": 5,
   "metadata": {},
   "outputs": [
    {
     "name": "stdout",
     "output_type": "stream",
     "text": [
      "b'\\x07'\n",
      "b'^'\n",
      "b'w'\n",
      "b'F'\n",
      "b'\\x00'\n",
      "0000011101011110011101110100011000000000\n"
     ]
    }
   ],
   "source": [
    "infile = open(filename, 'rb')\n",
    "bitString = \"\"\n",
    "byte = infile.read(1)\n",
    "while(byte != b''):\n",
    "    print(byte)\n",
    "    byte = ord(byte)\n",
    "    bits = bin(byte)[2:].rjust(8, '0')\n",
    "    bitString += bits\n",
    "    byte = infile.read(1)\n",
    "    \n",
    "print(bitString)"
   ]
  },
  {
   "cell_type": "code",
   "execution_count": 6,
   "metadata": {},
   "outputs": [
    {
     "name": "stdout",
     "output_type": "stream",
     "text": [
      "0101111001110111010001100\n"
     ]
    }
   ],
   "source": [
    "bitString = padded_encoded_text\n",
    "\n",
    "padded_info = padded_encoded_text[:8]\n",
    "extra_padding = int(padded_info, 2)\n",
    "\n",
    "padded_encoded_text = padded_encoded_text[8:] \n",
    "encoded_text = padded_encoded_text[:-1*extra_padding]\n",
    "\n",
    "print(encoded_text)\n"
   ]
  },
  {
   "cell_type": "code",
   "execution_count": null,
   "metadata": {},
   "outputs": [],
   "source": []
  }
 ],
 "metadata": {
  "kernelspec": {
   "display_name": "Python 3",
   "language": "python",
   "name": "python3"
  },
  "language_info": {
   "codemirror_mode": {
    "name": "ipython",
    "version": 3
   },
   "file_extension": ".py",
   "mimetype": "text/x-python",
   "name": "python",
   "nbconvert_exporter": "python",
   "pygments_lexer": "ipython3",
   "version": "3.6.9"
  }
 },
 "nbformat": 4,
 "nbformat_minor": 4
}
