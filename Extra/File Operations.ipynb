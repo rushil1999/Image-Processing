{
 "cells": [
  {
   "cell_type": "code",
   "execution_count": 1,
   "metadata": {},
   "outputs": [],
   "source": [
    "import sys\n",
    "import struct"
   ]
  },
  {
   "cell_type": "code",
   "execution_count": 31,
   "metadata": {},
   "outputs": [
    {
     "name": "stdout",
     "output_type": "stream",
     "text": [
      "8\n",
      "b'*'\n"
     ]
    }
   ],
   "source": [
    "import struct\n",
    "filename = \"out_test.bin\"\n",
    "outfile = open(filename, \"wb\")\n",
    "\n",
    "\n",
    "\n",
    "sizeArray = struct.pack('Q', 165)\n",
    "print(len(sizeArray))\n",
    "\n",
    "outfile.write(sizeArray)\n",
    "outfile.write(bytes('*', 'utf8'))\n",
    "print(bytes('*', 'utf8'))\n",
    "outfile.close()\n",
    "\n"
   ]
  },
  {
   "cell_type": "code",
   "execution_count": 32,
   "metadata": {},
   "outputs": [
    {
     "name": "stdout",
     "output_type": "stream",
     "text": [
      "165\n",
      "b'*'\n"
     ]
    }
   ],
   "source": [
    "infile = open(filename, \"rb\")\n",
    "sizeArrayRead = infile.read(8)\n",
    "size = struct.unpack('Q',sizeArrayRead)[0]\n",
    "print(size)\n",
    "byte = infile.read(1)\n",
    "print(byte)"
   ]
  },
  {
   "cell_type": "code",
   "execution_count": 13,
   "metadata": {},
   "outputs": [],
   "source": [
    "\n",
    "\n",
    "l = [25.0, '#', 32.5, '#', '#', 55.7, 3.3, '*', 5.5, 7.7]\n",
    "\n",
    "for ii in l:\n",
    "    if isinstance(ii, str):\n",
    "        outfile.write(bytes(ii, 'utf8'))\n",
    "    else:\n",
    "        byte = struct.pack('f', ii)\n",
    "        outfile.write(byte)\n",
    "        \n",
    "outfile.close()"
   ]
  },
  {
   "cell_type": "code",
   "execution_count": 9,
   "metadata": {},
   "outputs": [
    {
     "name": "stdout",
     "output_type": "stream",
     "text": [
      "2\n",
      "5\n",
      "6\n"
     ]
    }
   ],
   "source": [
    "infile = open(filename, \"rb\")\n",
    "out = []\n",
    "last_pos = 0\n",
    "byte = infile.read(1)\n",
    "if byte == b'#':\n",
    "    out.append(byte.decode('utf8'))\n",
    "else:\n",
    "    infile.seek(last_pos)\n",
    "    byte = infile.read(4)\n",
    "    byte = struct.unpack('f', byte)\n",
    "    out.append(byte)\n",
    "    \n",
    "while True:\n",
    "    \n",
    "    last_pos = infile.tell()\n",
    "    byte = infile.read(1)\n",
    "    \n",
    "    if byte == b'*':\n",
    "        break\n",
    "    elif byte == b'#':\n",
    "        out.append(byte.decode('utf8'))        \n",
    "    else:\n",
    "        print(len(out))\n",
    "        if len(out) == len(l):\n",
    "            break\n",
    "        infile.seek(last_pos)\n",
    "        byte = infile.read(4)\n",
    "        byte = struct.unpack('f', byte)\n",
    "        out.append(byte)\n",
    "        \n",
    "infile.close()"
   ]
  },
  {
   "cell_type": "code",
   "execution_count": 27,
   "metadata": {},
   "outputs": [
    {
     "name": "stdout",
     "output_type": "stream",
     "text": [
      "[(25.0,), '#', (32.5,), '#', '#', (55.70000076293945,), (3.299999952316284,)]\n"
     ]
    }
   ],
   "source": [
    "print(out)"
   ]
  },
  {
   "cell_type": "code",
   "execution_count": 25,
   "metadata": {},
   "outputs": [
    {
     "name": "stdout",
     "output_type": "stream",
     "text": [
      "1\n"
     ]
    }
   ],
   "source": [
    "tmp = [(25.0, )]\n",
    "print(len(tmp))"
   ]
  },
  {
   "cell_type": "code",
   "execution_count": 10,
   "metadata": {},
   "outputs": [],
   "source": [
    "seen = dict(((x, 0) for x in range(0,256)))\n",
    "from collections import Counter\n",
    "\n",
    "result = Counter(data)\n",
    "result = Counter(chr(x) for x in data)"
   ]
  },
  {
   "cell_type": "code",
   "execution_count": 11,
   "metadata": {},
   "outputs": [
    {
     "name": "stdout",
     "output_type": "stream",
     "text": [
      "Counter({'\\x00': 4, '#': 3, 'B': 2, '3': 2, 'È': 1, 'A': 1, '\\x02': 1, 'Í': 1, 'Ì': 1, '^': 1, 'S': 1, '@': 1})\n"
     ]
    }
   ],
   "source": [
    "print(result)"
   ]
  }
 ],
 "metadata": {
  "kernelspec": {
   "display_name": "Python 3",
   "language": "python",
   "name": "python3"
  },
  "language_info": {
   "codemirror_mode": {
    "name": "ipython",
    "version": 3
   },
   "file_extension": ".py",
   "mimetype": "text/x-python",
   "name": "python",
   "nbconvert_exporter": "python",
   "pygments_lexer": "ipython3",
   "version": "3.6.9"
  }
 },
 "nbformat": 4,
 "nbformat_minor": 4
}
