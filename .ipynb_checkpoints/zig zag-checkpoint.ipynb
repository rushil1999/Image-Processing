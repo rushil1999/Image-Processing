{
 "cells": [
  {
   "cell_type": "code",
   "execution_count": 87,
   "metadata": {},
   "outputs": [],
   "source": [
    "\n",
    "def zigZag(matrix):\n",
    "    list = []\n",
    "\n",
    "    \n",
    "    rows= len(matrix)\n",
    "    columns= len(matrix[0])\n",
    "\n",
    "\n",
    "    solution=[[] for i in range(rows+columns-1)] \n",
    "\n",
    "    for i in range(rows): \n",
    "        for j in range(columns): \n",
    "            sum=i+j \n",
    "            if(sum%2 ==0): \n",
    "\n",
    "                #add at beginning \n",
    "                solution[sum].insert(0,matrix[i][j]) \n",
    "            else: \n",
    "\n",
    "                #add at end of the list \n",
    "                solution[sum].append(matrix[i][j]) \n",
    "\n",
    "\n",
    "    for i in solution: \n",
    "        for j in i: \n",
    "            list.append(j);\n",
    "\n",
    "    return list"
   ]
  },
  {
   "cell_type": "code",
   "execution_count": 91,
   "metadata": {},
   "outputs": [
    {
     "name": "stdout",
     "output_type": "stream",
     "text": [
      "[0, 1, 2, 3, 4, 5, 6, 7, 8, 9, 10, 11, 12, 13, 14, 15, 16, 17, 18, 19, 20, 21, 22, 23, 24, 25, 26, 27, 28, 29, 30, 31, 32, 33, 34, 35, 36, 37, 38, 39, 40, 41, 42, 43, 44, 45, 46, 47, 48, 49, 50, 51, 52, 53, 54, 55, 56, 57, 58, 59, 60, 61, 62, 63]\n"
     ]
    }
   ],
   "source": [
    "matrix =[\n",
    "    [0, 1, 5, 6, 14, 15, 27, 28], \n",
    "    [2, 4, 7, 13, 16, 26, 29, 42], \n",
    "    [3, 8, 12, 17, 25, 30, 41, 43], \n",
    "    [9, 11, 18, 24, 31, 40, 44, 53], \n",
    "    [10, 19, 23, 32, 39, 45, 52, 54], \n",
    "    [20, 22, 33, 38, 46, 51, 55, 60], \n",
    "    [21, 34, 37, 47, 50, 56, 59, 61], \n",
    "    [35, 36, 48, 49, 57, 58, 62, 63]]\n",
    "\n",
    "zList = zigZag( matrix)\n",
    "print(zList)"
   ]
  },
  {
   "cell_type": "code",
   "execution_count": 95,
   "metadata": {},
   "outputs": [],
   "source": [
    "import math\n",
    "#Only for even squared Matrices\n",
    "def reverseZigZag(list):\n",
    "    print(len(list))\n",
    "    n = int(math.sqrt(len(list)))\n",
    "    matrix=[[0 for x in range(n)] for i in range(n)]\n",
    "    k=0\n",
    "    i=0\n",
    "    j=0\n",
    "    for k in range(0, len(list),1):\n",
    "        change = False\n",
    "#         print(list[k])\n",
    "#         print(i,j)\n",
    "        matrix[i][j] = list[k]\n",
    "        if((i+j)%2 == 0):\n",
    "            if(j < n-1):\n",
    "                change = True\n",
    "                j+=1\n",
    "                if(i > 0):\n",
    "                    i-=1        \n",
    "            if(change == False):\n",
    "                i+=1\n",
    "                \n",
    "        elif((i+j)%2 == 1):\n",
    "            if(i<n-1):\n",
    "                change = True\n",
    "                i+=1\n",
    "                if(j>0):\n",
    "                    j-=1\n",
    "            if(change ==  False):\n",
    "                j+=1\n",
    "    print(matrix)"
   ]
  },
  {
   "cell_type": "code",
   "execution_count": 96,
   "metadata": {},
   "outputs": [
    {
     "name": "stdout",
     "output_type": "stream",
     "text": [
      "64\n",
      "[[261.0, -4.0, 4.0, 1.0, -0.0, -0.0, -0.0, -0.0], [-1.0, -0.0, -0.0, -0.0, -0.0, -0.0, -0.0, -0.0], [-0.0, -0.0, -0.0, -0.0, -0.0, -0.0, -0.0, -0.0], [1.0, -0.0, -0.0, -0.0, -0.0, -0.0, -0.0, -0.0], [-1.0, -0.0, -0.0, -0.0, -0.0, -0.0, -0.0, -0.0], [-0.0, -0.0, -0.0, -0.0, -0.0, -0.0, -0.0, -0.0], [-0.0, -0.0, -0.0, -0.0, -0.0, -0.0, -0.0, -0.0], [-0.0, -0.0, -0.0, -0.0, -0.0, -0.0, -0.0, -0.0]]\n"
     ]
    }
   ],
   "source": [
    "list = [261.0, -4.0, -1.0, -0.0, -0.0, 4.0, 1.0, -0.0, -0.0, 1.0, -1.0, -0.0, -0.0, -0.0, -0.0, -0.0, -0.0, -0.0, -0.0, -0.0, -0.0, -0.0, -0.0, -0.0, -0.0, -0.0, -0.0, -0.0, -0.0, -0.0, -0.0, -0.0, -0.0, -0.0, -0.0, -0.0, -0.0, -0.0, -0.0, -0.0, -0.0, -0.0, -0.0, -0.0, -0.0, -0.0, -0.0, -0.0, -0.0, -0.0, -0.0, -0.0, -0.0, -0.0, -0.0, -0.0, -0.0, -0.0, -0.0, -0.0, -0.0, -0.0, -0.0, -0.0]\n",
    "reverseZigZag(list)"
   ]
  },
  {
   "cell_type": "code",
   "execution_count": null,
   "metadata": {},
   "outputs": [],
   "source": []
  },
  {
   "cell_type": "code",
   "execution_count": null,
   "metadata": {},
   "outputs": [],
   "source": []
  }
 ],
 "metadata": {
  "kernelspec": {
   "display_name": "Python 3",
   "language": "python",
   "name": "python3"
  },
  "language_info": {
   "codemirror_mode": {
    "name": "ipython",
    "version": 3
   },
   "file_extension": ".py",
   "mimetype": "text/x-python",
   "name": "python",
   "nbconvert_exporter": "python",
   "pygments_lexer": "ipython3",
   "version": "3.6.9"
  }
 },
 "nbformat": 4,
 "nbformat_minor": 4
}
