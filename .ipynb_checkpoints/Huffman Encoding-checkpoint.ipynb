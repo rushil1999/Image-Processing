{
 "cells": [
  {
   "cell_type": "code",
   "execution_count": 1,
   "metadata": {},
   "outputs": [],
   "source": [
    "class Node:\n",
    "    def __init__(self, value, left, right):\n",
    "        self.value = value\n",
    "        self.left = left\n",
    "        self.right = right\n",
    "   \n",
    " "
   ]
  },
  {
   "cell_type": "code",
   "execution_count": 2,
   "metadata": {},
   "outputs": [],
   "source": [
    "class HuffmanEncoding:\n",
    "    \n",
    "    def __init__(self):\n",
    "        self.d = {}\n",
    "\n",
    "    \n",
    "    def huffmanEncoding(self, data):\n",
    "        freq = {}\n",
    "        for element in data:\n",
    "            if element in freq:\n",
    "                freq[element] += 1\n",
    "            else:\n",
    "                freq[element] = 1\n",
    "\n",
    "        freq = sorted(freq.items(), key=lambda x: x[1], reverse=True)\n",
    "\n",
    "        tempFreq = freq.copy()\n",
    "\n",
    "#         print(tempFreq)  \n",
    "\n",
    "        while(len(tempFreq)>1):\n",
    "\n",
    "            (key1,val1) = tempFreq[-1]\n",
    "            (key2,val2) = tempFreq[-2]\n",
    "\n",
    "            tempFreq = tempFreq[:-2]\n",
    "\n",
    "            if(isinstance(key1, Node)):\n",
    "                ent1 = key1\n",
    "\n",
    "            else:\n",
    "                ent1 = Node(key1, None, None)\n",
    "\n",
    "            if(isinstance(key2, Node)):\n",
    "                ent2 = key2\n",
    "            else:\n",
    "\n",
    "                ent2 = Node(key2, None, None)\n",
    "\n",
    "            node = Node(None, ent1, ent2)\n",
    "\n",
    "            tempFreq.append((node, val1+val2))\n",
    "            tempFreq = sorted(tempFreq, key = lambda x: x[1], reverse = True)\n",
    "\n",
    "        return node\n",
    "\n",
    "    def generateCodes(self, node, s):\n",
    "        \n",
    "        if (node.left == None and node.right == None and node.value != None):\n",
    "            self.d[node.value] = s\n",
    "\n",
    "\n",
    "        if(node.left != None):\n",
    "            s = s + '0'\n",
    "            self.generateCodes(node.left, s)\n",
    "            s = s[:-1]\n",
    "\n",
    "        if(node.right != None):\n",
    "            s = s + '1'\n",
    "            self.generateCodes(node.right, s)\n",
    "            s = s[:-1]\n",
    "            \n",
    "        return self.d\n",
    "    \n",
    "    \n",
    "    def encodeData(self, data):\n",
    "        \n",
    "        tree = self.huffmanEncoding(data)\n",
    "        codec = compress.generateCodes(tree, \"\")\n",
    "        \n",
    "        encoded_text = \"\"\n",
    "        for element in data:\n",
    "            encoded_text += self.d[element]\n",
    "        \n",
    "        return encoded_text\n",
    "    \n",
    "\n",
    "        "
   ]
  },
  {
   "cell_type": "code",
   "execution_count": 13,
   "metadata": {},
   "outputs": [
    {
     "name": "stdout",
     "output_type": "stream",
     "text": [
      "0101111001110111010001100\n"
     ]
    }
   ],
   "source": [
    "data = [1,1,5,4,5,9,8,7,5,7]\n",
    "\n",
    "compress = HuffmanEncoding()\n",
    "encoded_text = compress.encodeData(data)\n",
    "\n",
    "tree = compress.huffmanEncoding(data)\n",
    "\n",
    "print(encoded_text)\n",
    "\n"
   ]
  },
  {
   "cell_type": "code",
   "execution_count": 40,
   "metadata": {},
   "outputs": [],
   "source": [
    "class FileStorage():\n",
    "\n",
    "    def __init__(self):\n",
    "        self.data = []\n",
    "        self.index = 0\n",
    "    \n",
    "    def serialize(self, node):\n",
    "        if(node.value == None):\n",
    "            self.data.append('#')\n",
    "            self.serialize(node.left)\n",
    "            self.serialize(node.right)\n",
    "        \n",
    "        else:\n",
    "            self.data.append(node.value)\n",
    "    \n",
    "        return self.data\n",
    "    \n",
    "#     def deserialize(self, list, index):\n",
    "#         if(list[index] == '#'):\n",
    "#             node = Node(None, None, None)\n",
    "#             index += 1\n",
    "#             node.left = self.deserialize(list, index)\n",
    "#             node.right = self.deserialize(list, index)\n",
    "#         else:\n",
    "#             node = Node(list[index], None, None)\n",
    "#             index += 1\n",
    "#         return node\n",
    "    \n",
    "    def deserialize(self, list, index):\n",
    "        print(self.index)\n",
    "        if(list[self.index] == '#'):\n",
    "            node = Node(None, None, None)\n",
    "            self.index += 1\n",
    "            node.left = self.deserialize(list, index)\n",
    "            node.right = self.deserialize(list, index)   \n",
    "        else:\n",
    "            node = Node(list[self.index], None, None)\n",
    "            self.index += 1\n",
    "        return node\n",
    "    \n",
    "    \n",
    "    \n",
    "    def storeTreeInFile(self, tree):\n",
    "        \n",
    "        \n",
    "        meta = []\n",
    "        meta = self.serialize(tree)\n",
    "        b = bytearray()\n",
    "        \n",
    "        for element in meta:\n",
    "            if(isinstance(element, str)):\n",
    "                print(bytes(element, 'utf8'))\n",
    "            else:\n",
    "                print(element.to_bytes(1,'big'))\n",
    "        \n",
    "            \n",
    "        print(b)\n",
    "        \n",
    "    \n",
    "    def printTree(self, node):\n",
    "        if(node.value == None):\n",
    "            print(None)\n",
    "            self.printTree(node.left)\n",
    "            self.printTree(node.right)\n",
    "        else:\n",
    "            print(node.value)"
   ]
  },
  {
   "cell_type": "code",
   "execution_count": 41,
   "metadata": {},
   "outputs": [
    {
     "name": "stdout",
     "output_type": "stream",
     "text": [
      "['#', '#', 7, 1, '#', '#', 4, '#', 8, 9, 5]\n",
      "0\n",
      "1\n",
      "2\n",
      "3\n",
      "4\n",
      "5\n",
      "6\n",
      "7\n",
      "8\n",
      "9\n",
      "10\n",
      "New Tree\n",
      "None\n",
      "None\n",
      "7\n",
      "1\n",
      "None\n",
      "None\n",
      "4\n",
      "None\n",
      "8\n",
      "9\n",
      "5\n"
     ]
    }
   ],
   "source": [
    "mem = FileStorage()\n",
    "\n",
    "enc = []\n",
    "enc = mem.serialize(tree)\n",
    "print(enc)\n",
    "\n",
    "\n",
    "# mem.storeTreeInFile(tree)\n",
    "mem.index = 0\n",
    "newTree = mem.deserialize(enc, 0)\n",
    "print(\"New Tree\")\n",
    "mem.printTree(newTree)\n"
   ]
  },
  {
   "cell_type": "code",
   "execution_count": 6,
   "metadata": {},
   "outputs": [
    {
     "name": "stdout",
     "output_type": "stream",
     "text": [
      "b'#\\x00\\x00\\x00#\\x00\\x00\\x007\\x00\\x00\\x001\\x00\\x00\\x00#\\x00\\x00\\x00#\\x00\\x00\\x004\\x00\\x00\\x00#\\x00\\x00\\x008\\x00\\x00\\x009\\x00\\x00\\x005\\x00\\x00\\x00'\n"
     ]
    }
   ],
   "source": [
    "import numpy as np\n",
    "import sys\n",
    "\n",
    "var = np.array(enc)\n",
    "var = var.tostring()\n",
    "print(var)\n",
    "\n",
    "filename =  \"/home/rushil/Documents/Python/Image Processing/Compression/ci.bin\"\n",
    "outfile = open(filename,'wb')\n",
    "\n",
    "for ele in var:\n",
    "    outfile.write(bytes(ele))\n",
    "    \n",
    "outfile.close()\n",
    "\n",
    "\n"
   ]
  },
  {
   "cell_type": "code",
   "execution_count": 16,
   "metadata": {},
   "outputs": [
    {
     "name": "stdout",
     "output_type": "stream",
     "text": [
      "[1, 1, 5, 4, 5, 9, 8, 7, 5, 7]\n",
      "[1, 1, 5, 4, 5, 9, 8, 7, 5, 7]\n"
     ]
    }
   ],
   "source": [
    "#Decoding the data\n",
    "\n",
    "import copy\n",
    "\n",
    "#Need to store tree in the file as well\n",
    "newTree = compress.huffmanEncoding(data)\n",
    "\n",
    "origData = []\n",
    "\n",
    "# ref = copy.deepcopy(tree)\n",
    "ref = newTree\n",
    "\n",
    "for bit in encoded_text:\n",
    "    if(bit == '0'):\n",
    "        ref = ref.left\n",
    "    else:\n",
    "        ref = ref.right\n",
    "    if(ref.value != None):\n",
    "        origData.append(ref.value)\n",
    "#         ref = copy.deepcopy(tree)\n",
    "        ref = newTree\n",
    "\n",
    "print(origData)\n",
    "print(data)\n",
    "        "
   ]
  },
  {
   "cell_type": "code",
   "execution_count": 8,
   "metadata": {},
   "outputs": [
    {
     "name": "stdout",
     "output_type": "stream",
     "text": [
      "b')\\\\SA'\n",
      "4\n",
      "(13.210000038146973,)\n",
      "b'\\x85\\xeb\\x00B'\n",
      "4\n",
      "(32.22999954223633,)\n",
      "b'\\x89\\x01\\xd2C'\n",
      "4\n",
      "(420.0119934082031,)\n",
      "b')\\\\\\x01B'\n",
      "4\n",
      "(32.34000015258789,)\n",
      "b';_aB'\n",
      "4\n",
      "(56.34299850463867,)\n"
     ]
    }
   ],
   "source": [
    "import struct\n",
    "data = [13.21, 32.23, 420.012, 32.34, 56.343 ]\n",
    "\n",
    "for ele in data:\n",
    "    array = struct.pack('f', ele)\n",
    "    print(array)\n",
    "    print(len(array))\n",
    "    \n",
    "    temp = struct.unpack('f', array)\n",
    "    print(temp)"
   ]
  },
  {
   "cell_type": "code",
   "execution_count": 9,
   "metadata": {},
   "outputs": [
    {
     "name": "stdout",
     "output_type": "stream",
     "text": [
      "25.0\n",
      "32.5\n",
      "55.70000076293945\n",
      "3.299999952316284\n",
      "[25.0, 32.5, 55.70000076293945, 3.299999952316284]\n"
     ]
    }
   ],
   "source": [
    "l = [25.0,32.5,55.7,3.3]\n",
    "handle = open('floats.bin', 'wb')\n",
    "for i in l:\n",
    "    handle.write(struct.pack('f', i))\n",
    "\n",
    "handle.close()\n",
    "\n",
    "\n",
    "ip=open('floats.bin','rb')\n",
    "arr=[]\n",
    "byte=ip.read(4)\n",
    "\n",
    "while byte != b'':\n",
    "    num = struct.unpack('f',byte)[0]\n",
    "    arr.append(num)\n",
    "    print(num)\n",
    "    byte=ip.read(4)\n",
    "    \n",
    "    \n",
    "    \n",
    "\n",
    "print(arr)"
   ]
  },
  {
   "cell_type": "code",
   "execution_count": null,
   "metadata": {},
   "outputs": [],
   "source": []
  }
 ],
 "metadata": {
  "kernelspec": {
   "display_name": "Python 3",
   "language": "python",
   "name": "python3"
  },
  "language_info": {
   "codemirror_mode": {
    "name": "ipython",
    "version": 3
   },
   "file_extension": ".py",
   "mimetype": "text/x-python",
   "name": "python",
   "nbconvert_exporter": "python",
   "pygments_lexer": "ipython3",
   "version": "3.6.9"
  }
 },
 "nbformat": 4,
 "nbformat_minor": 4
}
